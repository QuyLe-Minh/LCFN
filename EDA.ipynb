{
  "nbformat": 4,
  "nbformat_minor": 0,
  "metadata": {
    "colab": {
      "provenance": []
    },
    "kernelspec": {
      "name": "python3",
      "display_name": "Python 3"
    },
    "language_info": {
      "name": "python"
    }
  },
  "cells": [
    {
      "cell_type": "code",
      "execution_count": 38,
      "metadata": {
        "colab": {
          "base_uri": "https://localhost:8080/",
          "height": 52
        },
        "id": "hceoyekX3VBZ",
        "outputId": "5f9daf97-28aa-4587-dd89-c29d6506362b"
      },
      "outputs": [
        {
          "output_type": "stream",
          "name": "stdout",
          "text": [
            "Drive already mounted at /content/drive; to attempt to forcibly remount, call drive.mount(\"/content/drive\", force_remount=True).\n"
          ]
        },
        {
          "output_type": "display_data",
          "data": {
            "text/plain": [
              "<Figure size 1800x600 with 0 Axes>"
            ]
          },
          "metadata": {}
        }
      ],
      "source": [
        "import pandas as pd\n",
        "import numpy as np\n",
        "import matplotlib.pyplot as plt\n",
        "import seaborn as sns\n",
        "plt.figure(figsize = (18,6))\n",
        "\n",
        "from google.colab import drive\n",
        "drive.mount('/content/drive')"
      ]
    },
    {
      "cell_type": "code",
      "source": [
        "path_to_folder = \"/content/drive/MyDrive/A.I./BDC/ml-1m\""
      ],
      "metadata": {
        "id": "Flg6Gn2d3dZd"
      },
      "execution_count": 4,
      "outputs": []
    },
    {
      "cell_type": "code",
      "source": [
        "!pip install pyspark"
      ],
      "metadata": {
        "colab": {
          "base_uri": "https://localhost:8080/"
        },
        "id": "Pz6YZbkiFN0e",
        "outputId": "7a6bb995-990d-499c-8ba4-9c8f40a7f7a2"
      },
      "execution_count": 5,
      "outputs": [
        {
          "output_type": "stream",
          "name": "stdout",
          "text": [
            "Collecting pyspark\n",
            "  Downloading pyspark-3.5.0.tar.gz (316.9 MB)\n",
            "\u001b[2K     \u001b[90m━━━━━━━━━━━━━━━━━━━━━━━━━━━━━━━━━━━━━━━━\u001b[0m \u001b[32m316.9/316.9 MB\u001b[0m \u001b[31m3.8 MB/s\u001b[0m eta \u001b[36m0:00:00\u001b[0m\n",
            "\u001b[?25h  Preparing metadata (setup.py) ... \u001b[?25l\u001b[?25hdone\n",
            "Requirement already satisfied: py4j==0.10.9.7 in /usr/local/lib/python3.10/dist-packages (from pyspark) (0.10.9.7)\n",
            "Building wheels for collected packages: pyspark\n",
            "  Building wheel for pyspark (setup.py) ... \u001b[?25l\u001b[?25hdone\n",
            "  Created wheel for pyspark: filename=pyspark-3.5.0-py2.py3-none-any.whl size=317425345 sha256=581d905b7dbed39e916a5fa6f6e393ec0e7b49fad7b2780585365751190706dd\n",
            "  Stored in directory: /root/.cache/pip/wheels/41/4e/10/c2cf2467f71c678cfc8a6b9ac9241e5e44a01940da8fbb17fc\n",
            "Successfully built pyspark\n",
            "Installing collected packages: pyspark\n",
            "Successfully installed pyspark-3.5.0\n"
          ]
        }
      ]
    },
    {
      "cell_type": "code",
      "source": [
        "from pyspark.sql import SparkSession\n",
        "import pyspark.sql.functions as f"
      ],
      "metadata": {
        "id": "FZeGS3FFE7gN"
      },
      "execution_count": 6,
      "outputs": []
    },
    {
      "cell_type": "code",
      "source": [
        "spark = SparkSession.builder.appName(\"ok\").getOrCreate()"
      ],
      "metadata": {
        "id": "UsyayGnvFVi7"
      },
      "execution_count": 7,
      "outputs": []
    },
    {
      "cell_type": "code",
      "source": [
        "spark"
      ],
      "metadata": {
        "colab": {
          "base_uri": "https://localhost:8080/",
          "height": 219
        },
        "id": "MMvNrQXFFp22",
        "outputId": "9f7b91d3-46fa-4103-92f4-539ea67c6816"
      },
      "execution_count": 8,
      "outputs": [
        {
          "output_type": "execute_result",
          "data": {
            "text/plain": [
              "<pyspark.sql.session.SparkSession at 0x7de2366157e0>"
            ],
            "text/html": [
              "\n",
              "            <div>\n",
              "                <p><b>SparkSession - in-memory</b></p>\n",
              "                \n",
              "        <div>\n",
              "            <p><b>SparkContext</b></p>\n",
              "\n",
              "            <p><a href=\"http://efcc4b069271:4040\">Spark UI</a></p>\n",
              "\n",
              "            <dl>\n",
              "              <dt>Version</dt>\n",
              "                <dd><code>v3.5.0</code></dd>\n",
              "              <dt>Master</dt>\n",
              "                <dd><code>local[*]</code></dd>\n",
              "              <dt>AppName</dt>\n",
              "                <dd><code>ok</code></dd>\n",
              "            </dl>\n",
              "        </div>\n",
              "        \n",
              "            </div>\n",
              "        "
            ]
          },
          "metadata": {},
          "execution_count": 8
        }
      ]
    },
    {
      "cell_type": "code",
      "source": [
        "df_movies = spark.read.option(\"delimiter\", \"::\").csv(\"/content/drive/MyDrive/A.I./BDC/ml-1m/movies.dat\", header = False)\n",
        "df_movies = df_movies.selectExpr(\"_c0 as MovieID\", \"_c1 as Movie\", \"_c2 as Genre\")\n",
        "df_movies.show()"
      ],
      "metadata": {
        "colab": {
          "base_uri": "https://localhost:8080/"
        },
        "id": "P27FXw2tFuHe",
        "outputId": "4f825573-7809-4e6e-cc4f-f1da207db86b"
      },
      "execution_count": 9,
      "outputs": [
        {
          "output_type": "stream",
          "name": "stdout",
          "text": [
            "+-------+--------------------+--------------------+\n",
            "|MovieID|               Movie|               Genre|\n",
            "+-------+--------------------+--------------------+\n",
            "|      1|    Toy Story (1995)|Animation|Childre...|\n",
            "|      2|      Jumanji (1995)|Adventure|Childre...|\n",
            "|      3|Grumpier Old Men ...|      Comedy|Romance|\n",
            "|      4|Waiting to Exhale...|        Comedy|Drama|\n",
            "|      5|Father of the Bri...|              Comedy|\n",
            "|      6|         Heat (1995)|Action|Crime|Thri...|\n",
            "|      7|      Sabrina (1995)|      Comedy|Romance|\n",
            "|      8| Tom and Huck (1995)|Adventure|Children's|\n",
            "|      9| Sudden Death (1995)|              Action|\n",
            "|     10|    GoldenEye (1995)|Action|Adventure|...|\n",
            "|     11|American Presiden...|Comedy|Drama|Romance|\n",
            "|     12|Dracula: Dead and...|       Comedy|Horror|\n",
            "|     13|        Balto (1995)|Animation|Children's|\n",
            "|     14|        Nixon (1995)|               Drama|\n",
            "|     15|Cutthroat Island ...|Action|Adventure|...|\n",
            "|     16|       Casino (1995)|      Drama|Thriller|\n",
            "|     17|Sense and Sensibi...|       Drama|Romance|\n",
            "|     18|   Four Rooms (1995)|            Thriller|\n",
            "|     19|Ace Ventura: When...|              Comedy|\n",
            "|     20|  Money Train (1995)|              Action|\n",
            "+-------+--------------------+--------------------+\n",
            "only showing top 20 rows\n",
            "\n"
          ]
        }
      ]
    },
    {
      "cell_type": "code",
      "source": [
        "df_ratings = spark.read.option(\"delimiter\", \"::\").csv(\"/content/drive/MyDrive/A.I./BDC/ml-1m/ratings.dat\")\n",
        "df_ratings = df_ratings.selectExpr(\"_c0 as UserID\", \"_c1 as MovieID\", \"_c2 as Rating\", \"_c3 as Timestamp\")\n",
        "df_ratings.show()"
      ],
      "metadata": {
        "colab": {
          "base_uri": "https://localhost:8080/"
        },
        "id": "g6oXvsqjL8RH",
        "outputId": "8a089ed3-cafd-473a-dd38-4ced97a4a2f6"
      },
      "execution_count": 10,
      "outputs": [
        {
          "output_type": "stream",
          "name": "stdout",
          "text": [
            "+------+-------+------+---------+\n",
            "|UserID|MovieID|Rating|Timestamp|\n",
            "+------+-------+------+---------+\n",
            "|     1|   1193|     5|978300760|\n",
            "|     1|    661|     3|978302109|\n",
            "|     1|    914|     3|978301968|\n",
            "|     1|   3408|     4|978300275|\n",
            "|     1|   2355|     5|978824291|\n",
            "|     1|   1197|     3|978302268|\n",
            "|     1|   1287|     5|978302039|\n",
            "|     1|   2804|     5|978300719|\n",
            "|     1|    594|     4|978302268|\n",
            "|     1|    919|     4|978301368|\n",
            "|     1|    595|     5|978824268|\n",
            "|     1|    938|     4|978301752|\n",
            "|     1|   2398|     4|978302281|\n",
            "|     1|   2918|     4|978302124|\n",
            "|     1|   1035|     5|978301753|\n",
            "|     1|   2791|     4|978302188|\n",
            "|     1|   2687|     3|978824268|\n",
            "|     1|   2018|     4|978301777|\n",
            "|     1|   3105|     5|978301713|\n",
            "|     1|   2797|     4|978302039|\n",
            "+------+-------+------+---------+\n",
            "only showing top 20 rows\n",
            "\n"
          ]
        }
      ]
    },
    {
      "cell_type": "code",
      "source": [
        "df_users = spark.read.option(\"delimiter\", \"::\").csv(\"/content/drive/MyDrive/A.I./BDC/ml-1m/users.dat\")\n",
        "df_users = df_users.selectExpr(\"_c0 as UserID\", \"_c1 as Gender\", \"_c2 as Age\", \"_c3 as Occupation\", \"_c4 as Zipcode\")\n",
        "df_users.show()"
      ],
      "metadata": {
        "colab": {
          "base_uri": "https://localhost:8080/"
        },
        "id": "fYYyPnILFeGP",
        "outputId": "65e4e18d-b9cf-46c4-8f52-1da1df9df8b5"
      },
      "execution_count": 11,
      "outputs": [
        {
          "output_type": "stream",
          "name": "stdout",
          "text": [
            "+------+------+---+----------+-------+\n",
            "|UserID|Gender|Age|Occupation|Zipcode|\n",
            "+------+------+---+----------+-------+\n",
            "|     1|     F|  1|        10|  48067|\n",
            "|     2|     M| 56|        16|  70072|\n",
            "|     3|     M| 25|        15|  55117|\n",
            "|     4|     M| 45|         7|  02460|\n",
            "|     5|     M| 25|        20|  55455|\n",
            "|     6|     F| 50|         9|  55117|\n",
            "|     7|     M| 35|         1|  06810|\n",
            "|     8|     M| 25|        12|  11413|\n",
            "|     9|     M| 25|        17|  61614|\n",
            "|    10|     F| 35|         1|  95370|\n",
            "|    11|     F| 25|         1|  04093|\n",
            "|    12|     M| 25|        12|  32793|\n",
            "|    13|     M| 45|         1|  93304|\n",
            "|    14|     M| 35|         0|  60126|\n",
            "|    15|     M| 25|         7|  22903|\n",
            "|    16|     F| 35|         0|  20670|\n",
            "|    17|     M| 50|         1|  95350|\n",
            "|    18|     F| 18|         3|  95825|\n",
            "|    19|     M|  1|        10|  48073|\n",
            "|    20|     M| 25|        14|  55113|\n",
            "+------+------+---+----------+-------+\n",
            "only showing top 20 rows\n",
            "\n"
          ]
        }
      ]
    },
    {
      "cell_type": "markdown",
      "source": [
        "# Handle dataset"
      ],
      "metadata": {
        "id": "6MPfOfWb3ij_"
      }
    },
    {
      "cell_type": "markdown",
      "source": [
        "# EDA"
      ],
      "metadata": {
        "id": "bgkZXwVG3mdE"
      }
    },
    {
      "cell_type": "code",
      "source": [
        "print(\"Shape of movies:\", df_movies.count())\n",
        "print(\"Shape of ratings:\", df_ratings.count())\n",
        "print(\"Shape of users:\", df_users.count())"
      ],
      "metadata": {
        "colab": {
          "base_uri": "https://localhost:8080/"
        },
        "id": "asPUYHNX3pFv",
        "outputId": "0f87d7fb-aa19-403f-fa23-73f1000dd0f3"
      },
      "execution_count": 12,
      "outputs": [
        {
          "output_type": "stream",
          "name": "stdout",
          "text": [
            "Shape of movies: 3883\n",
            "Shape of ratings: 1000209\n",
            "Shape of users: 6040\n"
          ]
        }
      ]
    },
    {
      "cell_type": "markdown",
      "source": [
        "Some movies have remastered version."
      ],
      "metadata": {
        "id": "6ydZN-B58Uvo"
      }
    },
    {
      "cell_type": "markdown",
      "source": [
        "## NAN"
      ],
      "metadata": {
        "id": "JUDXJGP95FmN"
      }
    },
    {
      "cell_type": "code",
      "source": [
        "nan_check = df_movies.select([f.count(f.when(f.isnan(c) | (f.col(c).isNull()), c)).alias(c) for c in df_movies.columns])\n",
        "nan_check.show()"
      ],
      "metadata": {
        "colab": {
          "base_uri": "https://localhost:8080/"
        },
        "id": "RuBM6Q1a3_iW",
        "outputId": "377eaa00-2981-419e-f65f-04a7a56ddd25"
      },
      "execution_count": 13,
      "outputs": [
        {
          "output_type": "stream",
          "name": "stdout",
          "text": [
            "+-------+-----+-----+\n",
            "|MovieID|Movie|Genre|\n",
            "+-------+-----+-----+\n",
            "|      0|    0|    0|\n",
            "+-------+-----+-----+\n",
            "\n"
          ]
        }
      ]
    },
    {
      "cell_type": "code",
      "source": [
        "nan_check = df_users.select([f.count(f.when(f.isnan(c) | (f.col(c).isNull()), c)).alias(c) for c in df_users.columns])\n",
        "nan_check.show()"
      ],
      "metadata": {
        "colab": {
          "base_uri": "https://localhost:8080/"
        },
        "id": "FyKLO1t1PAOa",
        "outputId": "03d91dbf-cd59-48cc-cf57-00852ce96241"
      },
      "execution_count": 14,
      "outputs": [
        {
          "output_type": "stream",
          "name": "stdout",
          "text": [
            "+------+------+---+----------+-------+\n",
            "|UserID|Gender|Age|Occupation|Zipcode|\n",
            "+------+------+---+----------+-------+\n",
            "|     0|     0|  0|         0|      0|\n",
            "+------+------+---+----------+-------+\n",
            "\n"
          ]
        }
      ]
    },
    {
      "cell_type": "code",
      "source": [
        "nan_check = df_ratings.select([f.count(f.when(f.isnan(c) | (f.col(c).isNull()), c)).alias(c) for c in df_ratings.columns])\n",
        "nan_check.show()"
      ],
      "metadata": {
        "colab": {
          "base_uri": "https://localhost:8080/"
        },
        "id": "YB8hWuReEy41",
        "outputId": "133e2927-e728-435d-f868-8a5e8b10e690"
      },
      "execution_count": 15,
      "outputs": [
        {
          "output_type": "stream",
          "name": "stdout",
          "text": [
            "+------+-------+------+---------+\n",
            "|UserID|MovieID|Rating|Timestamp|\n",
            "+------+-------+------+---------+\n",
            "|     0|      0|     0|        0|\n",
            "+------+-------+------+---------+\n",
            "\n"
          ]
        }
      ]
    },
    {
      "cell_type": "code",
      "source": [
        "df = df_movies.join(df_ratings, on = \"MovieID\", how=\"inner\")\n",
        "df = df.join(df_users, on = \"UserID\", how = \"inner\")\n",
        "df = df.drop(\"Timestamp\")\n",
        "df = df.drop(\"Zipcode\")\n",
        "df.show()"
      ],
      "metadata": {
        "id": "JPYFQQcx4-qO",
        "colab": {
          "base_uri": "https://localhost:8080/"
        },
        "outputId": "73552995-eaa7-4e2e-a130-bd8727719624"
      },
      "execution_count": 25,
      "outputs": [
        {
          "output_type": "stream",
          "name": "stdout",
          "text": [
            "+------+-------+--------------------+--------------------+------+------+---+----------+\n",
            "|UserID|MovieID|               Movie|               Genre|Rating|Gender|Age|Occupation|\n",
            "+------+-------+--------------------+--------------------+------+------+---+----------+\n",
            "|     1|   1193|One Flew Over the...|               Drama|     5|     F|  1|        10|\n",
            "|     1|    661|James and the Gia...|Animation|Childre...|     3|     F|  1|        10|\n",
            "|     1|    914| My Fair Lady (1964)|     Musical|Romance|     3|     F|  1|        10|\n",
            "|     1|   3408|Erin Brockovich (...|               Drama|     4|     F|  1|        10|\n",
            "|     1|   2355|Bug's Life, A (1998)|Animation|Childre...|     5|     F|  1|        10|\n",
            "|     1|   1197|Princess Bride, T...|Action|Adventure|...|     3|     F|  1|        10|\n",
            "|     1|   1287|      Ben-Hur (1959)|Action|Adventure|...|     5|     F|  1|        10|\n",
            "|     1|   2804|Christmas Story, ...|        Comedy|Drama|     5|     F|  1|        10|\n",
            "|     1|    594|Snow White and th...|Animation|Childre...|     4|     F|  1|        10|\n",
            "|     1|    919|Wizard of Oz, The...|Adventure|Childre...|     4|     F|  1|        10|\n",
            "|     1|    595|Beauty and the Be...|Animation|Childre...|     5|     F|  1|        10|\n",
            "|     1|    938|         Gigi (1958)|             Musical|     4|     F|  1|        10|\n",
            "|     1|   2398|Miracle on 34th S...|               Drama|     4|     F|  1|        10|\n",
            "|     1|   2918|Ferris Bueller's ...|              Comedy|     4|     F|  1|        10|\n",
            "|     1|   1035|Sound of Music, T...|             Musical|     5|     F|  1|        10|\n",
            "|     1|   2791|    Airplane! (1980)|              Comedy|     4|     F|  1|        10|\n",
            "|     1|   2687|       Tarzan (1999)|Animation|Children's|     3|     F|  1|        10|\n",
            "|     1|   2018|        Bambi (1942)|Animation|Children's|     4|     F|  1|        10|\n",
            "|     1|   3105|   Awakenings (1990)|               Drama|     5|     F|  1|        10|\n",
            "|     1|   2797|          Big (1988)|      Comedy|Fantasy|     4|     F|  1|        10|\n",
            "+------+-------+--------------------+--------------------+------+------+---+----------+\n",
            "only showing top 20 rows\n",
            "\n"
          ]
        }
      ]
    },
    {
      "cell_type": "code",
      "source": [
        "print(\"Shape of master df:\", df.count())"
      ],
      "metadata": {
        "colab": {
          "base_uri": "https://localhost:8080/"
        },
        "id": "RNMvF-UDM1n0",
        "outputId": "7f3cc503-5087-45d1-a2ad-6411c6b7c093"
      },
      "execution_count": 17,
      "outputs": [
        {
          "output_type": "stream",
          "name": "stdout",
          "text": [
            "Shape of master df: 1000209\n"
          ]
        }
      ]
    },
    {
      "cell_type": "code",
      "source": [
        "ratings = df.groupBy(\"Rating\").count()\n",
        "ratings = ratings.orderBy(f.col(\"Rating\").asc())\n",
        "ratings.show()\n",
        "\n",
        "ratings = ratings.toPandas()\n",
        "plt.bar(ratings[\"Rating\"], ratings[\"count\"])\n",
        "plt.title('Rate distribution')\n",
        "plt.xlabel('Rate')\n",
        "plt.ylabel ('No. of movies')\n",
        "plt.show()"
      ],
      "metadata": {
        "colab": {
          "base_uri": "https://localhost:8080/",
          "height": 646
        },
        "id": "M_jPveu0GLR_",
        "outputId": "e5622a14-6d3f-4257-d595-9edb7e887185"
      },
      "execution_count": 23,
      "outputs": [
        {
          "output_type": "stream",
          "name": "stdout",
          "text": [
            "+------+------+\n",
            "|Rating| count|\n",
            "+------+------+\n",
            "|     1| 56174|\n",
            "|     2|107557|\n",
            "|     3|261197|\n",
            "|     4|348971|\n",
            "|     5|226310|\n",
            "+------+------+\n",
            "\n"
          ]
        },
        {
          "output_type": "display_data",
          "data": {
            "text/plain": [
              "<Figure size 640x480 with 1 Axes>"
            ],
            "image/png": "[encoded data removed]"
          },
          "metadata": {}
        }
      ]
    },
    {
      "cell_type": "code",
      "source": [
        "ages = df.groupBy(\"Age\").count()\n",
        "ages = ages.orderBy(f.col(\"Age\").asc())\n",
        "ages.show()\n",
        "ages = ages.toPandas()\n",
        "\n",
        "plt.figure(figsize = (18, 6))\n",
        "plt.bar(ages[\"Age\"], ages[\"count\"])\n",
        "plt.ylabel(\"No. of ratings\")\n",
        "plt.xlabel(\"Age group\")\n",
        "plt.title(\"Age group most active\")\n",
        "plt.show()"
      ],
      "metadata": {
        "colab": {
          "base_uri": "https://localhost:8080/",
          "height": 772
        },
        "id": "blHIO-3CG8Yg",
        "outputId": "02f2f80d-dfff-4995-8c07-b40597fd2812"
      },
      "execution_count": 24,
      "outputs": [
        {
          "output_type": "stream",
          "name": "stdout",
          "text": [
            "+---+------+\n",
            "|Age| count|\n",
            "+---+------+\n",
            "|  1| 27211|\n",
            "| 18|183536|\n",
            "| 25|395556|\n",
            "| 35|199003|\n",
            "| 45| 83633|\n",
            "| 50| 72490|\n",
            "| 56| 38780|\n",
            "+---+------+\n",
            "\n"
          ]
        },
        {
          "output_type": "display_data",
          "data": {
            "text/plain": [
              "<Figure size 1800x600 with 1 Axes>"
            ],
            "image/png": "[encoded data removed]"
          },
          "metadata": {}
        }
      ]
    },
    {
      "cell_type": "code",
      "source": [
        "genre_favor = df.groupBy(\"Genre\").pivot(\"Age\").count().na.fill(0)\n",
        "\n",
        "print(\"Age group 1\")\n",
        "genre_favor = genre_favor.orderBy(f.col(\"1\").desc())\n",
        "genre_favor.show(n= 5, truncate = False)\n",
        "\n",
        "print(\"Age group 18\")\n",
        "genre_favor = genre_favor.orderBy(f.col(\"18\").desc())\n",
        "genre_favor.show(n= 5, truncate = False)\n",
        "\n",
        "print(\"Age group 25\")\n",
        "genre_favor = genre_favor.orderBy(f.col(\"25\").desc())\n",
        "genre_favor.show(n= 5, truncate = False)\n",
        "\n",
        "print(\"Age group 35\")\n",
        "genre_favor = genre_favor.orderBy(f.col(\"35\").desc())\n",
        "genre_favor.show(n= 5, truncate = False)\n",
        "\n",
        "# genre_favor = genre_favor.orderBy(f.col(\"45\").desc())\n",
        "# genre_favor.show(n= 5, truncate = False)\n",
        "\n",
        "# genre_favor = genre_favor.orderBy(f.col(\"50\").desc())\n",
        "# genre_favor.show(n= 5, truncate = False)\n",
        "\n",
        "# genre_favor = genre_favor.orderBy(f.col(\"65\").desc())\n",
        "# genre_favor.show(n= 5, truncate = False)"
      ],
      "metadata": {
        "colab": {
          "base_uri": "https://localhost:8080/"
        },
        "id": "4Pgm6RQsLXbE",
        "outputId": "4833ce2e-a60f-422e-e392-ec5c3be7a36b"
      },
      "execution_count": 47,
      "outputs": [
        {
          "output_type": "stream",
          "name": "stdout",
          "text": [
            "Age group 1\n",
            "+---------------+----+-----+-----+-----+-----+----+----+\n",
            "|Genre          |1   |18   |25   |35   |45   |50  |56  |\n",
            "+---------------+----+-----+-----+-----+-----+----+----+\n",
            "|Comedy         |3703|24204|48444|21868|8351 |6759|3554|\n",
            "|Drama          |2239|17678|42834|22442|10439|9706|6085|\n",
            "|Comedy|Romance |1219|7940 |16814|8207 |3770 |3108|1654|\n",
            "|Comedy|Drama   |1000|7649 |17257|8148 |3447 |3042|1702|\n",
            "|Action|Thriller|745 |5632 |11359|4925 |1748 |1622|728 |\n",
            "+---------------+----+-----+-----+-----+-----+----+----+\n",
            "only showing top 5 rows\n",
            "\n",
            "Age group 18\n",
            "+---------------+----+-----+-----+-----+-----+----+----+\n",
            "|Genre          |1   |18   |25   |35   |45   |50  |56  |\n",
            "+---------------+----+-----+-----+-----+-----+----+----+\n",
            "|Comedy         |3703|24204|48444|21868|8351 |6759|3554|\n",
            "|Drama          |2239|17678|42834|22442|10439|9706|6085|\n",
            "|Comedy|Romance |1219|7940 |16814|8207 |3770 |3108|1654|\n",
            "|Comedy|Drama   |1000|7649 |17257|8148 |3447 |3042|1702|\n",
            "|Action|Thriller|745 |5632 |11359|4925 |1748 |1622|728 |\n",
            "+---------------+----+-----+-----+-----+-----+----+----+\n",
            "only showing top 5 rows\n",
            "\n",
            "Age group 25\n",
            "+--------------+----+-----+-----+-----+-----+----+----+\n",
            "|Genre         |1   |18   |25   |35   |45   |50  |56  |\n",
            "+--------------+----+-----+-----+-----+-----+----+----+\n",
            "|Comedy        |3703|24204|48444|21868|8351 |6759|3554|\n",
            "|Drama         |2239|17678|42834|22442|10439|9706|6085|\n",
            "|Comedy|Drama  |1000|7649 |17257|8148 |3447 |3042|1702|\n",
            "|Comedy|Romance|1219|7940 |16814|8207 |3770 |3108|1654|\n",
            "|Drama|Romance |544 |4766 |11452|5817 |2791 |2385|1415|\n",
            "+--------------+----+-----+-----+-----+-----+----+----+\n",
            "only showing top 5 rows\n",
            "\n",
            "Age group 35\n",
            "+--------------+----+-----+-----+-----+-----+----+----+\n",
            "|Genre         |1   |18   |25   |35   |45   |50  |56  |\n",
            "+--------------+----+-----+-----+-----+-----+----+----+\n",
            "|Drama         |2239|17678|42834|22442|10439|9706|6085|\n",
            "|Comedy        |3703|24204|48444|21868|8351 |6759|3554|\n",
            "|Comedy|Romance|1219|7940 |16814|8207 |3770 |3108|1654|\n",
            "|Comedy|Drama  |1000|7649 |17257|8148 |3447 |3042|1702|\n",
            "|Drama|Romance |544 |4766 |11452|5817 |2791 |2385|1415|\n",
            "+--------------+----+-----+-----+-----+-----+----+----+\n",
            "only showing top 5 rows\n",
            "\n"
          ]
        }
      ]
    },
    {
      "cell_type": "markdown",
      "source": [
        "Comedy and drama genres are the dominance, favor of all generations."
      ],
      "metadata": {
        "id": "fjVWnL1LEbr2"
      }
    },
    {
      "cell_type": "code",
      "source": [
        "import seaborn as sns\n",
        "corr = df.corr()\n",
        "plt.figure(figsize=(18, 6))\n",
        "sns.heatmap(corr, annot=True, cmap='coolwarm', fmt=\".2f\")\n",
        "plt.title(\"Behavior of reviewers toward their features\")\n",
        "plt.show()"
      ],
      "metadata": {
        "colab": {
          "base_uri": "https://localhost:8080/",
          "height": 600
        },
        "id": "MB0dCmxrL4si",
        "outputId": "253dd3ff-219c-4f0b-bba5-d540bd140da7"
      },
      "execution_count": null,
      "outputs": [
        {
          "output_type": "stream",
          "name": "stderr",
          "text": [
            "<ipython-input-210-74b67c152104>:2: FutureWarning: The default value of numeric_only in DataFrame.corr is deprecated. In a future version, it will default to False. Select only valid columns or specify the value of numeric_only to silence this warning.\n",
            "  corr = df.corr()\n"
          ]
        },
        {
          "output_type": "display_data",
          "data": {
            "text/plain": [
              "<Figure size 1800x600 with 2 Axes>"
            ],
            "image/png": "[encoded data removed]"
          },
          "metadata": {}
        }
      ]
    },
    {
      "cell_type": "code",
      "source": [
        "most_active_ratings = df.groupBy(\"Movie\").count().orderBy(f.col(\"count\").desc())\n",
        "most_active_ratings.show(truncate = False)"
      ],
      "metadata": {
        "colab": {
          "base_uri": "https://localhost:8080/"
        },
        "id": "NPWEE5VW8ibm",
        "outputId": "daebbfc9-5519-4bc4-c6a0-8817a34699d4"
      },
      "execution_count": 29,
      "outputs": [
        {
          "output_type": "stream",
          "name": "stdout",
          "text": [
            "+-----------------------------------------------------+-----+\n",
            "|Movie                                                |count|\n",
            "+-----------------------------------------------------+-----+\n",
            "|American Beauty (1999)                               |3428 |\n",
            "|Star Wars: Episode IV - A New Hope (1977)            |2991 |\n",
            "|Star Wars: Episode V - The Empire Strikes Back (1980)|2990 |\n",
            "|Star Wars: Episode VI - Return of the Jedi (1983)    |2883 |\n",
            "|Jurassic Park (1993)                                 |2672 |\n",
            "|Saving Private Ryan (1998)                           |2653 |\n",
            "|Terminator 2: Judgment Day (1991)                    |2649 |\n",
            "|Matrix, The (1999)                                   |2590 |\n",
            "|Back to the Future (1985)                            |2583 |\n",
            "|Silence of the Lambs, The (1991)                     |2578 |\n",
            "|Men in Black (1997)                                  |2538 |\n",
            "|Raiders of the Lost Ark (1981)                       |2514 |\n",
            "|Fargo (1996)                                         |2513 |\n",
            "|Sixth Sense, The (1999)                              |2459 |\n",
            "|Braveheart (1995)                                    |2443 |\n",
            "|Shakespeare in Love (1998)                           |2369 |\n",
            "|Princess Bride, The (1987)                           |2318 |\n",
            "|Schindler's List (1993)                              |2304 |\n",
            "|L.A. Confidential (1997)                             |2288 |\n",
            "|Groundhog Day (1993)                                 |2278 |\n",
            "+-----------------------------------------------------+-----+\n",
            "only showing top 20 rows\n",
            "\n"
          ]
        }
      ]
    },
    {
      "cell_type": "code",
      "source": [
        "most_positive_ratings = df.groupBy(\"Movie\").agg(f.avg(\"Rating\").alias(\"Mean rating\"))\n",
        "most_positive_ratings = most_positive_ratings.orderBy(f.col(\"Mean rating\").desc())\n",
        "most_positive_ratings.show(truncate=False)"
      ],
      "metadata": {
        "colab": {
          "base_uri": "https://localhost:8080/"
        },
        "id": "9KDlpuJYEl1y",
        "outputId": "2ec39f68-3f1d-47ff-e0bc-b1eef821d3f1"
      },
      "execution_count": 34,
      "outputs": [
        {
          "output_type": "stream",
          "name": "stdout",
          "text": [
            "+-------------------------------------------------------------------+-----------------+\n",
            "|Movie                                                              |Mean rating      |\n",
            "+-------------------------------------------------------------------+-----------------+\n",
            "|Ulysses (Ulisse) (1954)                                            |5.0              |\n",
            "|Gate of Heavenly Peace, The (1995)                                 |5.0              |\n",
            "|Bittersweet Motel (2000)                                           |5.0              |\n",
            "|Schlafes Bruder (Brother of Sleep) (1995)                          |5.0              |\n",
            "|Baby, The (1973)                                                   |5.0              |\n",
            "|Smashing Time (1967)                                               |5.0              |\n",
            "|Follow the Bitch (1998)                                            |5.0              |\n",
            "|Song of Freedom (1936)                                             |5.0              |\n",
            "|Lured (1947)                                                       |5.0              |\n",
            "|One Little Indian (1973)                                           |5.0              |\n",
            "|I Am Cuba (Soy Cuba/Ya Kuba) (1964)                                |4.8              |\n",
            "|Lamerica (1994)                                                    |4.75             |\n",
            "|Apple, The (Sib) (1998)                                            |4.666666666666667|\n",
            "|Sanjuro (1962)                                                     |4.608695652173913|\n",
            "|Seven Samurai (The Magnificent Seven) (Shichinin no samurai) (1954)|4.560509554140127|\n",
            "|Shawshank Redemption, The (1994)                                   |4.554557700942973|\n",
            "|Godfather, The (1972)                                              |4.524966261808367|\n",
            "|Close Shave, A (1995)                                              |4.52054794520548 |\n",
            "|Usual Suspects, The (1995)                                         |4.517106001121705|\n",
            "|Schindler's List (1993)                                            |4.510416666666667|\n",
            "+-------------------------------------------------------------------+-----------------+\n",
            "only showing top 20 rows\n",
            "\n"
          ]
        }
      ]
    },
    {
      "cell_type": "code",
      "source": [],
      "metadata": {
        "id": "dPAg8N2J_Vg1"
      },
      "execution_count": null,
      "outputs": []
    }
  ]
}